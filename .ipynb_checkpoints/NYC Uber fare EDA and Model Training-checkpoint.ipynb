{
 "cells": [
  {
   "cell_type": "code",
   "execution_count": 1,
   "id": "abf02a48-6e6b-4d04-9f71-8d34e33a0d7a",
   "metadata": {},
   "outputs": [
    {
     "name": "stdout",
     "output_type": "stream",
     "text": [
      "D:\\Personal\\self study\\uber fare prediction\\virtualenv_dev_uber_fare\\Scripts\\pip.exe\n",
      "C:\\Users\\Lenovo\\AppData\\Local\\Programs\\Python\\Python312\\Scripts\\pip.exe\n"
     ]
    }
   ],
   "source": [
    "!where pip     # Use a virtual environment for development"
   ]
  },
  {
   "cell_type": "code",
   "execution_count": 2,
   "id": "67f8749f-cd54-4d54-ae58-9b7d5b4d2f30",
   "metadata": {},
   "outputs": [
    {
     "name": "stdout",
     "output_type": "stream",
     "text": [
      "Package                            Version\n",
      "---------------------------------- --------------\n",
      "alembic                            1.13.2\n",
      "aniso8601                          9.0.1\n",
      "anyio                              4.4.0\n",
      "argon2-cffi                        23.1.0\n",
      "argon2-cffi-bindings               21.2.0\n",
      "arrow                              1.3.0\n",
      "asttokens                          2.4.1\n",
      "async-lru                          2.0.4\n",
      "attrs                              24.2.0\n",
      "babel                              2.16.0\n",
      "beautifulsoup4                     4.12.3\n",
      "bleach                             6.1.0\n",
      "blinker                            1.8.2\n",
      "cachetools                         5.4.0\n",
      "certifi                            2024.7.4\n",
      "cffi                               1.17.0\n",
      "charset-normalizer                 3.3.2\n",
      "click                              8.1.7\n",
      "cloudpickle                        3.0.0\n",
      "colorama                           0.4.6\n",
      "comm                               0.2.2\n",
      "contourpy                          1.2.1\n",
      "cycler                             0.12.1\n",
      "databricks-sdk                     0.30.0\n",
      "debugpy                            1.8.5\n",
      "decorator                          5.1.1\n",
      "defusedxml                         0.7.1\n",
      "Deprecated                         1.2.14\n",
      "docker                             7.1.0\n",
      "entrypoints                        0.4\n",
      "executing                          2.0.1\n",
      "fastjsonschema                     2.20.0\n",
      "Flask                              3.0.3\n",
      "fonttools                          4.53.1\n",
      "fqdn                               1.5.1\n",
      "gitdb                              4.0.11\n",
      "GitPython                          3.1.43\n",
      "google-auth                        2.33.0\n",
      "graphene                           3.3\n",
      "graphql-core                       3.2.3\n",
      "graphql-relay                      3.2.0\n",
      "greenlet                           3.0.3\n",
      "h11                                0.14.0\n",
      "httpcore                           1.0.5\n",
      "httpx                              0.27.0\n",
      "idna                               3.7\n",
      "importlib_metadata                 7.2.1\n",
      "ipykernel                          6.29.5\n",
      "ipython                            8.26.0\n",
      "ipywidgets                         8.1.3\n",
      "isoduration                        20.11.0\n",
      "itsdangerous                       2.2.0\n",
      "jedi                               0.19.1\n",
      "Jinja2                             3.1.4\n",
      "joblib                             1.4.2\n",
      "json5                              0.9.25\n",
      "jsonpointer                        3.0.0\n",
      "jsonschema                         4.23.0\n",
      "jsonschema-specifications          2023.12.1\n",
      "jupyter_client                     8.6.2\n",
      "jupyter-console                    6.6.3\n",
      "jupyter_core                       5.7.2\n",
      "jupyter-events                     0.10.0\n",
      "jupyter-lsp                        2.2.5\n",
      "jupyter_server                     2.14.2\n",
      "jupyter_server_terminals           0.5.3\n",
      "jupyterlab                         4.0.13\n",
      "jupyterlab_pygments                0.3.0\n",
      "jupyterlab_server                  2.27.3\n",
      "jupyterlab_widgets                 3.0.11\n",
      "kiwisolver                         1.4.5\n",
      "Mako                               1.3.5\n",
      "Markdown                           3.6\n",
      "MarkupSafe                         2.1.5\n",
      "matplotlib                         3.9.2\n",
      "matplotlib-inline                  0.1.7\n",
      "mistune                            3.0.2\n",
      "mlflow                             2.15.1\n",
      "mlflow-skinny                      2.15.1\n",
      "nbclient                           0.10.0\n",
      "nbconvert                          7.16.4\n",
      "nbformat                           5.10.4\n",
      "nest-asyncio                       1.6.0\n",
      "notebook                           7.0.8\n",
      "notebook_shim                      0.2.4\n",
      "numpy                              1.26.4\n",
      "opentelemetry-api                  1.26.0\n",
      "opentelemetry-sdk                  1.26.0\n",
      "opentelemetry-semantic-conventions 0.47b0\n",
      "overrides                          7.7.0\n",
      "packaging                          24.1\n",
      "pandas                             2.2.2\n",
      "pandocfilters                      1.5.1\n",
      "parso                              0.8.4\n",
      "pillow                             10.4.0\n",
      "pip                                24.1.2\n",
      "platformdirs                       4.2.2\n",
      "prometheus_client                  0.20.0\n",
      "prompt_toolkit                     3.0.47\n",
      "protobuf                           5.27.3\n",
      "psutil                             6.0.0\n",
      "pure_eval                          0.2.3\n",
      "pyarrow                            15.0.2\n",
      "pyasn1                             0.6.0\n",
      "pyasn1_modules                     0.4.0\n",
      "pycparser                          2.22\n",
      "Pygments                           2.18.0\n",
      "pyparsing                          3.1.2\n",
      "python-dateutil                    2.9.0.post0\n",
      "python-json-logger                 2.0.7\n",
      "pytz                               2024.1\n",
      "pywin32                            306\n",
      "pywinpty                           2.0.13\n",
      "PyYAML                             6.0.2\n",
      "pyzmq                              26.1.0\n",
      "qtconsole                          5.5.2\n",
      "QtPy                               2.4.1\n",
      "querystring-parser                 1.2.4\n",
      "referencing                        0.35.1\n",
      "requests                           2.32.3\n",
      "rfc3339-validator                  0.1.4\n",
      "rfc3986-validator                  0.1.1\n",
      "rpds-py                            0.20.0\n",
      "rsa                                4.9\n",
      "scikit-learn                       1.5.1\n",
      "scipy                              1.14.0\n",
      "Send2Trash                         1.8.3\n",
      "setuptools                         72.2.0\n",
      "six                                1.16.0\n",
      "smmap                              5.0.1\n",
      "sniffio                            1.3.1\n",
      "soupsieve                          2.6\n",
      "SQLAlchemy                         2.0.32\n",
      "sqlparse                           0.5.1\n",
      "stack-data                         0.6.3\n",
      "terminado                          0.18.1\n",
      "threadpoolctl                      3.5.0\n",
      "tinycss2                           1.3.0\n",
      "tornado                            6.4.1\n",
      "traitlets                          5.14.3\n",
      "types-python-dateutil              2.9.0.20240316\n",
      "typing_extensions                  4.12.2\n",
      "tzdata                             2024.1\n",
      "uri-template                       1.3.0\n",
      "urllib3                            2.2.2\n",
      "waitress                           3.0.0\n",
      "wcwidth                            0.2.13\n",
      "webcolors                          24.8.0\n",
      "webencodings                       0.5.1\n",
      "websocket-client                   1.8.0\n",
      "Werkzeug                           3.0.3\n",
      "widgetsnbextension                 4.0.11\n",
      "wrapt                              1.16.0\n",
      "zipp                               3.20.0\n"
     ]
    }
   ],
   "source": [
    "!pip list"
   ]
  },
  {
   "cell_type": "code",
   "execution_count": 3,
   "id": "02d2a3c4-229a-4b20-9bae-af7fb01e5794",
   "metadata": {},
   "outputs": [],
   "source": [
    "import pandas as pd\n",
    "import numpy as np\n",
    "import mlflow\n",
    "from math import radians, sin, cos, sqrt, atan2\n",
    "import matplotlib.pyplot as plt\n",
    "import datetime"
   ]
  },
  {
   "cell_type": "code",
   "execution_count": 75,
   "id": "e9eeb8ff-312e-4c33-a23d-15b2981351a1",
   "metadata": {},
   "outputs": [],
   "source": [
    "import seaborn as sns"
   ]
  },
  {
   "cell_type": "code",
   "execution_count": 142,
   "id": "4f894e09-fd11-4620-9cab-8649fe15e223",
   "metadata": {},
   "outputs": [],
   "source": [
    "df = pd.read_csv('uber.csv')"
   ]
  },
  {
   "cell_type": "code",
   "execution_count": 143,
   "id": "48647efb-16cf-493e-9b46-3fd11aeaf15f",
   "metadata": {},
   "outputs": [],
   "source": [
    "df.drop(columns = ['Unnamed: 0','key'], inplace = True)"
   ]
  },
  {
   "cell_type": "code",
   "execution_count": 144,
   "id": "ca06c936-ea6b-404b-a700-95915199bbb9",
   "metadata": {},
   "outputs": [
    {
     "data": {
      "text/html": [
       "<div>\n",
       "<style scoped>\n",
       "    .dataframe tbody tr th:only-of-type {\n",
       "        vertical-align: middle;\n",
       "    }\n",
       "\n",
       "    .dataframe tbody tr th {\n",
       "        vertical-align: top;\n",
       "    }\n",
       "\n",
       "    .dataframe thead th {\n",
       "        text-align: right;\n",
       "    }\n",
       "</style>\n",
       "<table border=\"1\" class=\"dataframe\">\n",
       "  <thead>\n",
       "    <tr style=\"text-align: right;\">\n",
       "      <th></th>\n",
       "      <th>fare_amount</th>\n",
       "      <th>pickup_datetime</th>\n",
       "      <th>pickup_longitude</th>\n",
       "      <th>pickup_latitude</th>\n",
       "      <th>dropoff_longitude</th>\n",
       "      <th>dropoff_latitude</th>\n",
       "      <th>passenger_count</th>\n",
       "    </tr>\n",
       "  </thead>\n",
       "  <tbody>\n",
       "    <tr>\n",
       "      <th>0</th>\n",
       "      <td>7.5</td>\n",
       "      <td>2015-05-07 19:52:06 UTC</td>\n",
       "      <td>-73.999817</td>\n",
       "      <td>40.738354</td>\n",
       "      <td>-73.999512</td>\n",
       "      <td>40.723217</td>\n",
       "      <td>1</td>\n",
       "    </tr>\n",
       "    <tr>\n",
       "      <th>1</th>\n",
       "      <td>7.7</td>\n",
       "      <td>2009-07-17 20:04:56 UTC</td>\n",
       "      <td>-73.994355</td>\n",
       "      <td>40.728225</td>\n",
       "      <td>-73.994710</td>\n",
       "      <td>40.750325</td>\n",
       "      <td>1</td>\n",
       "    </tr>\n",
       "    <tr>\n",
       "      <th>2</th>\n",
       "      <td>12.9</td>\n",
       "      <td>2009-08-24 21:45:00 UTC</td>\n",
       "      <td>-74.005043</td>\n",
       "      <td>40.740770</td>\n",
       "      <td>-73.962565</td>\n",
       "      <td>40.772647</td>\n",
       "      <td>1</td>\n",
       "    </tr>\n",
       "    <tr>\n",
       "      <th>3</th>\n",
       "      <td>5.3</td>\n",
       "      <td>2009-06-26 08:22:21 UTC</td>\n",
       "      <td>-73.976124</td>\n",
       "      <td>40.790844</td>\n",
       "      <td>-73.965316</td>\n",
       "      <td>40.803349</td>\n",
       "      <td>3</td>\n",
       "    </tr>\n",
       "    <tr>\n",
       "      <th>4</th>\n",
       "      <td>16.0</td>\n",
       "      <td>2014-08-28 17:47:00 UTC</td>\n",
       "      <td>-73.925023</td>\n",
       "      <td>40.744085</td>\n",
       "      <td>-73.973082</td>\n",
       "      <td>40.761247</td>\n",
       "      <td>5</td>\n",
       "    </tr>\n",
       "  </tbody>\n",
       "</table>\n",
       "</div>"
      ],
      "text/plain": [
       "   fare_amount          pickup_datetime  pickup_longitude  pickup_latitude  \\\n",
       "0          7.5  2015-05-07 19:52:06 UTC        -73.999817        40.738354   \n",
       "1          7.7  2009-07-17 20:04:56 UTC        -73.994355        40.728225   \n",
       "2         12.9  2009-08-24 21:45:00 UTC        -74.005043        40.740770   \n",
       "3          5.3  2009-06-26 08:22:21 UTC        -73.976124        40.790844   \n",
       "4         16.0  2014-08-28 17:47:00 UTC        -73.925023        40.744085   \n",
       "\n",
       "   dropoff_longitude  dropoff_latitude  passenger_count  \n",
       "0         -73.999512         40.723217                1  \n",
       "1         -73.994710         40.750325                1  \n",
       "2         -73.962565         40.772647                1  \n",
       "3         -73.965316         40.803349                3  \n",
       "4         -73.973082         40.761247                5  "
      ]
     },
     "execution_count": 144,
     "metadata": {},
     "output_type": "execute_result"
    }
   ],
   "source": [
    "df.head()"
   ]
  },
  {
   "cell_type": "code",
   "execution_count": 145,
   "id": "0cab698e-e58a-421f-ab39-d2dc44affba7",
   "metadata": {},
   "outputs": [
    {
     "data": {
      "text/plain": [
       "'Number of rows: 200,000'"
      ]
     },
     "execution_count": 145,
     "metadata": {},
     "output_type": "execute_result"
    }
   ],
   "source": [
    "f'Number of rows: {df.shape[0]:,}'"
   ]
  },
  {
   "cell_type": "markdown",
   "id": "5fe1b1ad-4e39-4573-ae7b-4a0bc19d40c5",
   "metadata": {},
   "source": [
    "### Datetime feature engineering"
   ]
  },
  {
   "cell_type": "code",
   "execution_count": 146,
   "id": "234f49e6-0475-4c6d-af67-353d81ba23ba",
   "metadata": {},
   "outputs": [],
   "source": [
    "df.pickup_datetime = pd.to_datetime(df.pickup_datetime)"
   ]
  },
  {
   "cell_type": "code",
   "execution_count": 147,
   "id": "69f79496-756f-42c1-a21a-838786f37bb9",
   "metadata": {},
   "outputs": [],
   "source": [
    "df['dayofyear'] = df.pickup_datetime.dt.dayofyear\n",
    "df['dayofweek'] = df.pickup_datetime.dt.weekday\n",
    "df['time'] = df.pickup_datetime.dt.time"
   ]
  },
  {
   "cell_type": "code",
   "execution_count": 148,
   "id": "cd3ccb7c-0e25-43b2-81d6-4e524a329b61",
   "metadata": {},
   "outputs": [
    {
     "data": {
      "text/html": [
       "<div>\n",
       "<style scoped>\n",
       "    .dataframe tbody tr th:only-of-type {\n",
       "        vertical-align: middle;\n",
       "    }\n",
       "\n",
       "    .dataframe tbody tr th {\n",
       "        vertical-align: top;\n",
       "    }\n",
       "\n",
       "    .dataframe thead th {\n",
       "        text-align: right;\n",
       "    }\n",
       "</style>\n",
       "<table border=\"1\" class=\"dataframe\">\n",
       "  <thead>\n",
       "    <tr style=\"text-align: right;\">\n",
       "      <th></th>\n",
       "      <th>fare_amount</th>\n",
       "      <th>pickup_datetime</th>\n",
       "      <th>pickup_longitude</th>\n",
       "      <th>pickup_latitude</th>\n",
       "      <th>dropoff_longitude</th>\n",
       "      <th>dropoff_latitude</th>\n",
       "      <th>passenger_count</th>\n",
       "      <th>dayofyear</th>\n",
       "      <th>dayofweek</th>\n",
       "      <th>time</th>\n",
       "    </tr>\n",
       "  </thead>\n",
       "  <tbody>\n",
       "    <tr>\n",
       "      <th>0</th>\n",
       "      <td>7.5</td>\n",
       "      <td>2015-05-07 19:52:06+00:00</td>\n",
       "      <td>-73.999817</td>\n",
       "      <td>40.738354</td>\n",
       "      <td>-73.999512</td>\n",
       "      <td>40.723217</td>\n",
       "      <td>1</td>\n",
       "      <td>127</td>\n",
       "      <td>3</td>\n",
       "      <td>19:52:06</td>\n",
       "    </tr>\n",
       "    <tr>\n",
       "      <th>1</th>\n",
       "      <td>7.7</td>\n",
       "      <td>2009-07-17 20:04:56+00:00</td>\n",
       "      <td>-73.994355</td>\n",
       "      <td>40.728225</td>\n",
       "      <td>-73.994710</td>\n",
       "      <td>40.750325</td>\n",
       "      <td>1</td>\n",
       "      <td>198</td>\n",
       "      <td>4</td>\n",
       "      <td>20:04:56</td>\n",
       "    </tr>\n",
       "    <tr>\n",
       "      <th>2</th>\n",
       "      <td>12.9</td>\n",
       "      <td>2009-08-24 21:45:00+00:00</td>\n",
       "      <td>-74.005043</td>\n",
       "      <td>40.740770</td>\n",
       "      <td>-73.962565</td>\n",
       "      <td>40.772647</td>\n",
       "      <td>1</td>\n",
       "      <td>236</td>\n",
       "      <td>0</td>\n",
       "      <td>21:45:00</td>\n",
       "    </tr>\n",
       "    <tr>\n",
       "      <th>3</th>\n",
       "      <td>5.3</td>\n",
       "      <td>2009-06-26 08:22:21+00:00</td>\n",
       "      <td>-73.976124</td>\n",
       "      <td>40.790844</td>\n",
       "      <td>-73.965316</td>\n",
       "      <td>40.803349</td>\n",
       "      <td>3</td>\n",
       "      <td>177</td>\n",
       "      <td>4</td>\n",
       "      <td>08:22:21</td>\n",
       "    </tr>\n",
       "    <tr>\n",
       "      <th>4</th>\n",
       "      <td>16.0</td>\n",
       "      <td>2014-08-28 17:47:00+00:00</td>\n",
       "      <td>-73.925023</td>\n",
       "      <td>40.744085</td>\n",
       "      <td>-73.973082</td>\n",
       "      <td>40.761247</td>\n",
       "      <td>5</td>\n",
       "      <td>240</td>\n",
       "      <td>3</td>\n",
       "      <td>17:47:00</td>\n",
       "    </tr>\n",
       "  </tbody>\n",
       "</table>\n",
       "</div>"
      ],
      "text/plain": [
       "   fare_amount           pickup_datetime  pickup_longitude  pickup_latitude  \\\n",
       "0          7.5 2015-05-07 19:52:06+00:00        -73.999817        40.738354   \n",
       "1          7.7 2009-07-17 20:04:56+00:00        -73.994355        40.728225   \n",
       "2         12.9 2009-08-24 21:45:00+00:00        -74.005043        40.740770   \n",
       "3          5.3 2009-06-26 08:22:21+00:00        -73.976124        40.790844   \n",
       "4         16.0 2014-08-28 17:47:00+00:00        -73.925023        40.744085   \n",
       "\n",
       "   dropoff_longitude  dropoff_latitude  passenger_count  dayofyear  dayofweek  \\\n",
       "0         -73.999512         40.723217                1        127          3   \n",
       "1         -73.994710         40.750325                1        198          4   \n",
       "2         -73.962565         40.772647                1        236          0   \n",
       "3         -73.965316         40.803349                3        177          4   \n",
       "4         -73.973082         40.761247                5        240          3   \n",
       "\n",
       "       time  \n",
       "0  19:52:06  \n",
       "1  20:04:56  \n",
       "2  21:45:00  \n",
       "3  08:22:21  \n",
       "4  17:47:00  "
      ]
     },
     "execution_count": 148,
     "metadata": {},
     "output_type": "execute_result"
    }
   ],
   "source": [
    "df.head()"
   ]
  },
  {
   "cell_type": "markdown",
   "id": "477e2ce6-6813-441f-a406-9001494f01c3",
   "metadata": {},
   "source": [
    "**Checking Consistency**"
   ]
  },
  {
   "cell_type": "code",
   "execution_count": 149,
   "id": "d44c5e21-48b9-47a5-b689-7b78f2b76a0a",
   "metadata": {},
   "outputs": [
    {
     "data": {
      "text/plain": [
       "array([datetime.time(0, 0), datetime.time(0, 0, 2),\n",
       "       datetime.time(0, 0, 3), ..., datetime.time(23, 59, 57),\n",
       "       datetime.time(23, 59, 58), datetime.time(23, 59, 59)], dtype=object)"
      ]
     },
     "execution_count": 149,
     "metadata": {},
     "output_type": "execute_result"
    }
   ],
   "source": [
    "np.sort(df.time.unique())"
   ]
  },
  {
   "cell_type": "code",
   "execution_count": 150,
   "id": "21259d0a-bd09-443a-9613-a3b4e75ecc9f",
   "metadata": {},
   "outputs": [
    {
     "data": {
      "text/plain": [
       "7"
      ]
     },
     "execution_count": 150,
     "metadata": {},
     "output_type": "execute_result"
    }
   ],
   "source": [
    "df.dayofweek.nunique()"
   ]
  },
  {
   "cell_type": "code",
   "execution_count": 151,
   "id": "c611cbde-3fa8-40a2-b547-57b5dcf7e20f",
   "metadata": {},
   "outputs": [
    {
     "data": {
      "text/plain": [
       "366"
      ]
     },
     "execution_count": 151,
     "metadata": {},
     "output_type": "execute_result"
    }
   ],
   "source": [
    "df.dayofyear.nunique()"
   ]
  },
  {
   "cell_type": "markdown",
   "id": "fe793c52-1c4c-4f26-b1ab-d9aa9b37f878",
   "metadata": {},
   "source": [
    "**It seems that all datetime features are consistant and that all possible values are available**"
   ]
  },
  {
   "cell_type": "markdown",
   "id": "1faa7f73-bca2-4f57-bcae-1413ccd41184",
   "metadata": {},
   "source": [
    "### Transforming location features and summerize them to be only distance"
   ]
  },
  {
   "cell_type": "markdown",
   "id": "9741e9cf-2f09-456b-8557-f6d9da70fd7b",
   "metadata": {},
   "source": [
    "Here for simplicity, instead of using an API to get the exact street distance between the 2 locations, I'll use Haversine distance "
   ]
  },
  {
   "cell_type": "code",
   "execution_count": 152,
   "id": "1858c005-3105-4ab1-8096-b356d691ee42",
   "metadata": {},
   "outputs": [],
   "source": [
    "def haversine_distance(long1,lat1, long2, lat2):    \n",
    "    # Convert latitude and longitude to radians\n",
    "    lat1_rad = radians(lat1)\n",
    "    long1_rad = radians(long1)\n",
    "    lat2_rad = radians(lat2)\n",
    "    long2_rad = radians(long2)\n",
    "\n",
    "    # Haversine formula\n",
    "    dlong = long2_rad - long1_rad\n",
    "    dlat = lat2_rad - lat1_rad\n",
    "    a = sin(dlat/2)**2 + cos(lat1_rad) * cos(lat2_rad) * sin(dlong/2)**2\n",
    "    c = 2 * atan2(sqrt(a), sqrt(1-a))\n",
    "    distance = 6371 * c  # Earth radius in kilometers\n",
    "    return distance"
   ]
  },
  {
   "cell_type": "code",
   "execution_count": 153,
   "id": "aa38fd74-1f15-4c0b-9437-45a47ee4b6ce",
   "metadata": {},
   "outputs": [],
   "source": [
    "df['distance_km'] = df.apply(lambda x: haversine_distance(x.pickup_longitude, x.pickup_latitude, x.dropoff_longitude, x.dropoff_latitude) ,axis = 1 )"
   ]
  },
  {
   "cell_type": "code",
   "execution_count": 154,
   "id": "fb73fb64-820a-4e9e-aa07-839a56dd6743",
   "metadata": {},
   "outputs": [
    {
     "data": {
      "text/html": [
       "<div>\n",
       "<style scoped>\n",
       "    .dataframe tbody tr th:only-of-type {\n",
       "        vertical-align: middle;\n",
       "    }\n",
       "\n",
       "    .dataframe tbody tr th {\n",
       "        vertical-align: top;\n",
       "    }\n",
       "\n",
       "    .dataframe thead th {\n",
       "        text-align: right;\n",
       "    }\n",
       "</style>\n",
       "<table border=\"1\" class=\"dataframe\">\n",
       "  <thead>\n",
       "    <tr style=\"text-align: right;\">\n",
       "      <th></th>\n",
       "      <th>fare_amount</th>\n",
       "      <th>pickup_datetime</th>\n",
       "      <th>pickup_longitude</th>\n",
       "      <th>pickup_latitude</th>\n",
       "      <th>dropoff_longitude</th>\n",
       "      <th>dropoff_latitude</th>\n",
       "      <th>passenger_count</th>\n",
       "      <th>dayofyear</th>\n",
       "      <th>dayofweek</th>\n",
       "      <th>time</th>\n",
       "      <th>distance_km</th>\n",
       "    </tr>\n",
       "  </thead>\n",
       "  <tbody>\n",
       "    <tr>\n",
       "      <th>0</th>\n",
       "      <td>7.5</td>\n",
       "      <td>2015-05-07 19:52:06+00:00</td>\n",
       "      <td>-73.999817</td>\n",
       "      <td>40.738354</td>\n",
       "      <td>-73.999512</td>\n",
       "      <td>40.723217</td>\n",
       "      <td>1</td>\n",
       "      <td>127</td>\n",
       "      <td>3</td>\n",
       "      <td>19:52:06</td>\n",
       "      <td>1.683323</td>\n",
       "    </tr>\n",
       "    <tr>\n",
       "      <th>1</th>\n",
       "      <td>7.7</td>\n",
       "      <td>2009-07-17 20:04:56+00:00</td>\n",
       "      <td>-73.994355</td>\n",
       "      <td>40.728225</td>\n",
       "      <td>-73.994710</td>\n",
       "      <td>40.750325</td>\n",
       "      <td>1</td>\n",
       "      <td>198</td>\n",
       "      <td>4</td>\n",
       "      <td>20:04:56</td>\n",
       "      <td>2.457590</td>\n",
       "    </tr>\n",
       "    <tr>\n",
       "      <th>2</th>\n",
       "      <td>12.9</td>\n",
       "      <td>2009-08-24 21:45:00+00:00</td>\n",
       "      <td>-74.005043</td>\n",
       "      <td>40.740770</td>\n",
       "      <td>-73.962565</td>\n",
       "      <td>40.772647</td>\n",
       "      <td>1</td>\n",
       "      <td>236</td>\n",
       "      <td>0</td>\n",
       "      <td>21:45:00</td>\n",
       "      <td>5.036377</td>\n",
       "    </tr>\n",
       "    <tr>\n",
       "      <th>3</th>\n",
       "      <td>5.3</td>\n",
       "      <td>2009-06-26 08:22:21+00:00</td>\n",
       "      <td>-73.976124</td>\n",
       "      <td>40.790844</td>\n",
       "      <td>-73.965316</td>\n",
       "      <td>40.803349</td>\n",
       "      <td>3</td>\n",
       "      <td>177</td>\n",
       "      <td>4</td>\n",
       "      <td>08:22:21</td>\n",
       "      <td>1.661683</td>\n",
       "    </tr>\n",
       "    <tr>\n",
       "      <th>4</th>\n",
       "      <td>16.0</td>\n",
       "      <td>2014-08-28 17:47:00+00:00</td>\n",
       "      <td>-73.925023</td>\n",
       "      <td>40.744085</td>\n",
       "      <td>-73.973082</td>\n",
       "      <td>40.761247</td>\n",
       "      <td>5</td>\n",
       "      <td>240</td>\n",
       "      <td>3</td>\n",
       "      <td>17:47:00</td>\n",
       "      <td>4.475450</td>\n",
       "    </tr>\n",
       "  </tbody>\n",
       "</table>\n",
       "</div>"
      ],
      "text/plain": [
       "   fare_amount           pickup_datetime  pickup_longitude  pickup_latitude  \\\n",
       "0          7.5 2015-05-07 19:52:06+00:00        -73.999817        40.738354   \n",
       "1          7.7 2009-07-17 20:04:56+00:00        -73.994355        40.728225   \n",
       "2         12.9 2009-08-24 21:45:00+00:00        -74.005043        40.740770   \n",
       "3          5.3 2009-06-26 08:22:21+00:00        -73.976124        40.790844   \n",
       "4         16.0 2014-08-28 17:47:00+00:00        -73.925023        40.744085   \n",
       "\n",
       "   dropoff_longitude  dropoff_latitude  passenger_count  dayofyear  dayofweek  \\\n",
       "0         -73.999512         40.723217                1        127          3   \n",
       "1         -73.994710         40.750325                1        198          4   \n",
       "2         -73.962565         40.772647                1        236          0   \n",
       "3         -73.965316         40.803349                3        177          4   \n",
       "4         -73.973082         40.761247                5        240          3   \n",
       "\n",
       "       time  distance_km  \n",
       "0  19:52:06     1.683323  \n",
       "1  20:04:56     2.457590  \n",
       "2  21:45:00     5.036377  \n",
       "3  08:22:21     1.661683  \n",
       "4  17:47:00     4.475450  "
      ]
     },
     "execution_count": 154,
     "metadata": {},
     "output_type": "execute_result"
    }
   ],
   "source": [
    "df.head()"
   ]
  },
  {
   "cell_type": "markdown",
   "id": "70d925b8-475b-4172-80c1-60c9e426bdba",
   "metadata": {},
   "source": [
    "Lets see the fare amount and distance overtime"
   ]
  },
  {
   "cell_type": "code",
   "execution_count": 155,
   "id": "ba88a7ae-b722-4b21-acf1-2fea01214685",
   "metadata": {},
   "outputs": [
    {
     "data": {
      "text/html": [
       "<div>\n",
       "<style scoped>\n",
       "    .dataframe tbody tr th:only-of-type {\n",
       "        vertical-align: middle;\n",
       "    }\n",
       "\n",
       "    .dataframe tbody tr th {\n",
       "        vertical-align: top;\n",
       "    }\n",
       "\n",
       "    .dataframe thead th {\n",
       "        text-align: right;\n",
       "    }\n",
       "</style>\n",
       "<table border=\"1\" class=\"dataframe\">\n",
       "  <thead>\n",
       "    <tr style=\"text-align: right;\">\n",
       "      <th></th>\n",
       "      <th>fare_amount</th>\n",
       "      <th>distance_km</th>\n",
       "    </tr>\n",
       "    <tr>\n",
       "      <th>pickup_datetime</th>\n",
       "      <th></th>\n",
       "      <th></th>\n",
       "    </tr>\n",
       "  </thead>\n",
       "  <tbody>\n",
       "    <tr>\n",
       "      <th>2009</th>\n",
       "      <td>7.7</td>\n",
       "      <td>2.063706</td>\n",
       "    </tr>\n",
       "    <tr>\n",
       "      <th>2010</th>\n",
       "      <td>7.7</td>\n",
       "      <td>2.095978</td>\n",
       "    </tr>\n",
       "    <tr>\n",
       "      <th>2011</th>\n",
       "      <td>7.7</td>\n",
       "      <td>2.110952</td>\n",
       "    </tr>\n",
       "    <tr>\n",
       "      <th>2012</th>\n",
       "      <td>8.5</td>\n",
       "      <td>2.166306</td>\n",
       "    </tr>\n",
       "    <tr>\n",
       "      <th>2013</th>\n",
       "      <td>9.5</td>\n",
       "      <td>2.153051</td>\n",
       "    </tr>\n",
       "    <tr>\n",
       "      <th>2014</th>\n",
       "      <td>9.5</td>\n",
       "      <td>2.146175</td>\n",
       "    </tr>\n",
       "    <tr>\n",
       "      <th>2015</th>\n",
       "      <td>9.5</td>\n",
       "      <td>2.100351</td>\n",
       "    </tr>\n",
       "  </tbody>\n",
       "</table>\n",
       "</div>"
      ],
      "text/plain": [
       "                 fare_amount  distance_km\n",
       "pickup_datetime                          \n",
       "2009                     7.7     2.063706\n",
       "2010                     7.7     2.095978\n",
       "2011                     7.7     2.110952\n",
       "2012                     8.5     2.166306\n",
       "2013                     9.5     2.153051\n",
       "2014                     9.5     2.146175\n",
       "2015                     9.5     2.100351"
      ]
     },
     "execution_count": 155,
     "metadata": {},
     "output_type": "execute_result"
    }
   ],
   "source": [
    "df.groupby(df.pickup_datetime.dt.year)[['fare_amount','distance_km']].median()"
   ]
  },
  {
   "cell_type": "markdown",
   "id": "b865a300-b4df-48ad-9f58-14e412ff17f8",
   "metadata": {},
   "source": [
    "**As seen above, the year didn't really make that difference, so I'll discard the idea of adding the gas price or some feature reflects the inflation just for simplicity**"
   ]
  },
  {
   "cell_type": "code",
   "execution_count": 156,
   "id": "3f1d755e-1474-448d-b1dc-47916b3b2460",
   "metadata": {},
   "outputs": [],
   "source": [
    "df.drop(columns = ['pickup_datetime','pickup_longitude','pickup_latitude','dropoff_longitude', 'dropoff_latitude' ], inplace = True)"
   ]
  },
  {
   "cell_type": "code",
   "execution_count": 157,
   "id": "c1f85db4-8ca3-439c-94e7-a29f2c93854c",
   "metadata": {},
   "outputs": [
    {
     "data": {
      "text/html": [
       "<div>\n",
       "<style scoped>\n",
       "    .dataframe tbody tr th:only-of-type {\n",
       "        vertical-align: middle;\n",
       "    }\n",
       "\n",
       "    .dataframe tbody tr th {\n",
       "        vertical-align: top;\n",
       "    }\n",
       "\n",
       "    .dataframe thead th {\n",
       "        text-align: right;\n",
       "    }\n",
       "</style>\n",
       "<table border=\"1\" class=\"dataframe\">\n",
       "  <thead>\n",
       "    <tr style=\"text-align: right;\">\n",
       "      <th></th>\n",
       "      <th>fare_amount</th>\n",
       "      <th>passenger_count</th>\n",
       "      <th>dayofyear</th>\n",
       "      <th>dayofweek</th>\n",
       "      <th>time</th>\n",
       "      <th>distance_km</th>\n",
       "    </tr>\n",
       "  </thead>\n",
       "  <tbody>\n",
       "    <tr>\n",
       "      <th>0</th>\n",
       "      <td>7.5</td>\n",
       "      <td>1</td>\n",
       "      <td>127</td>\n",
       "      <td>3</td>\n",
       "      <td>19:52:06</td>\n",
       "      <td>1.683323</td>\n",
       "    </tr>\n",
       "    <tr>\n",
       "      <th>1</th>\n",
       "      <td>7.7</td>\n",
       "      <td>1</td>\n",
       "      <td>198</td>\n",
       "      <td>4</td>\n",
       "      <td>20:04:56</td>\n",
       "      <td>2.457590</td>\n",
       "    </tr>\n",
       "    <tr>\n",
       "      <th>2</th>\n",
       "      <td>12.9</td>\n",
       "      <td>1</td>\n",
       "      <td>236</td>\n",
       "      <td>0</td>\n",
       "      <td>21:45:00</td>\n",
       "      <td>5.036377</td>\n",
       "    </tr>\n",
       "    <tr>\n",
       "      <th>3</th>\n",
       "      <td>5.3</td>\n",
       "      <td>3</td>\n",
       "      <td>177</td>\n",
       "      <td>4</td>\n",
       "      <td>08:22:21</td>\n",
       "      <td>1.661683</td>\n",
       "    </tr>\n",
       "    <tr>\n",
       "      <th>4</th>\n",
       "      <td>16.0</td>\n",
       "      <td>5</td>\n",
       "      <td>240</td>\n",
       "      <td>3</td>\n",
       "      <td>17:47:00</td>\n",
       "      <td>4.475450</td>\n",
       "    </tr>\n",
       "  </tbody>\n",
       "</table>\n",
       "</div>"
      ],
      "text/plain": [
       "   fare_amount  passenger_count  dayofyear  dayofweek      time  distance_km\n",
       "0          7.5                1        127          3  19:52:06     1.683323\n",
       "1          7.7                1        198          4  20:04:56     2.457590\n",
       "2         12.9                1        236          0  21:45:00     5.036377\n",
       "3          5.3                3        177          4  08:22:21     1.661683\n",
       "4         16.0                5        240          3  17:47:00     4.475450"
      ]
     },
     "execution_count": 157,
     "metadata": {},
     "output_type": "execute_result"
    }
   ],
   "source": [
    "df.head()"
   ]
  },
  {
   "cell_type": "markdown",
   "id": "70cc1fc0-b0b4-4a51-a7aa-d4fc51b14f33",
   "metadata": {},
   "source": [
    "### Checking other features"
   ]
  },
  {
   "cell_type": "code",
   "execution_count": 158,
   "id": "b51900d5-a738-4a98-b32b-1348defd7926",
   "metadata": {},
   "outputs": [
    {
     "data": {
      "text/plain": [
       "passenger_count\n",
       "1      138425\n",
       "2       29428\n",
       "5       14009\n",
       "3        8881\n",
       "4        4276\n",
       "6        4271\n",
       "0         709\n",
       "208         1\n",
       "Name: count, dtype: int64"
      ]
     },
     "execution_count": 158,
     "metadata": {},
     "output_type": "execute_result"
    }
   ],
   "source": [
    "df.passenger_count.value_counts()"
   ]
  },
  {
   "cell_type": "markdown",
   "id": "ef461d28-2e8d-414e-8588-56347bb61042",
   "metadata": {},
   "source": [
    "I'll simply drop any row with passanger count greater than 6 or equal to 0"
   ]
  },
  {
   "cell_type": "code",
   "execution_count": 163,
   "id": "830635d1-1fcc-4f78-9f91-ce2ae06a9a3a",
   "metadata": {},
   "outputs": [],
   "source": [
    "df = df[(df['passenger_count'] <= 6) & (df['passenger_count'] >= 1)]"
   ]
  },
  {
   "cell_type": "code",
   "execution_count": 164,
   "id": "27e4ed42-9c76-428d-bd1a-7ba32a98ea7f",
   "metadata": {},
   "outputs": [
    {
     "data": {
      "text/plain": [
       "'199,290'"
      ]
     },
     "execution_count": 164,
     "metadata": {},
     "output_type": "execute_result"
    }
   ],
   "source": [
    "f'{df.shape[0]:,}'"
   ]
  },
  {
   "cell_type": "markdown",
   "id": "c21b0bc9-7521-4963-a81d-8f0543f05822",
   "metadata": {},
   "source": [
    "Now that all features are ready, I'll start transforming"
   ]
  },
  {
   "cell_type": "markdown",
   "id": "51fca84e-df97-43e0-a1b4-48aca0da80d4",
   "metadata": {},
   "source": [
    "### Feature Transformation"
   ]
  },
  {
   "cell_type": "code",
   "execution_count": 165,
   "id": "5a034ef0-0b22-485c-a132-d2488478b3cf",
   "metadata": {},
   "outputs": [],
   "source": [
    "df['dayofyear_sin'] = np.sin(2*np.pi*df['dayofyear']/366)\n",
    "df['dayofyear_cos'] = np.cos(2*np.pi*df['dayofyear']/366)\n",
    "df['dayofweek_sin'] = np.sin(2*np.pi*df['dayofweek']/6)\n",
    "df['dayofweek_cos'] = np.cos(2*np.pi*df['dayofweek']/6)\n",
    "df['total_seconds'] = df['time'].apply(lambda t: t.hour * 3600 + t.minute * 60 + t.second )\n",
    "df['time_sin'] = np.sin(2*np.pi*df['total_seconds']/86400)\n",
    "df['time_cos'] = np.cos(2*np.pi*df['total_seconds']/86400)"
   ]
  },
  {
   "cell_type": "code",
   "execution_count": 166,
   "id": "a3a5c642-069a-44df-9bdf-e5f27332688a",
   "metadata": {},
   "outputs": [
    {
     "data": {
      "text/html": [
       "<div>\n",
       "<style scoped>\n",
       "    .dataframe tbody tr th:only-of-type {\n",
       "        vertical-align: middle;\n",
       "    }\n",
       "\n",
       "    .dataframe tbody tr th {\n",
       "        vertical-align: top;\n",
       "    }\n",
       "\n",
       "    .dataframe thead th {\n",
       "        text-align: right;\n",
       "    }\n",
       "</style>\n",
       "<table border=\"1\" class=\"dataframe\">\n",
       "  <thead>\n",
       "    <tr style=\"text-align: right;\">\n",
       "      <th></th>\n",
       "      <th>fare_amount</th>\n",
       "      <th>passenger_count</th>\n",
       "      <th>dayofyear</th>\n",
       "      <th>dayofweek</th>\n",
       "      <th>time</th>\n",
       "      <th>distance_km</th>\n",
       "      <th>dayofyear_sin</th>\n",
       "      <th>dayofyear_cos</th>\n",
       "      <th>dayofweek_sin</th>\n",
       "      <th>dayofweek_cos</th>\n",
       "      <th>total_seconds</th>\n",
       "      <th>time_sin</th>\n",
       "      <th>time_cos</th>\n",
       "    </tr>\n",
       "  </thead>\n",
       "  <tbody>\n",
       "    <tr>\n",
       "      <th>0</th>\n",
       "      <td>7.5</td>\n",
       "      <td>1</td>\n",
       "      <td>127</td>\n",
       "      <td>3</td>\n",
       "      <td>19:52:06</td>\n",
       "      <td>1.683323</td>\n",
       "      <td>0.819972</td>\n",
       "      <td>-0.572404</td>\n",
       "      <td>1.224647e-16</td>\n",
       "      <td>-1.0</td>\n",
       "      <td>71526</td>\n",
       "      <td>-0.882743</td>\n",
       "      <td>0.469857</td>\n",
       "    </tr>\n",
       "    <tr>\n",
       "      <th>1</th>\n",
       "      <td>7.7</td>\n",
       "      <td>1</td>\n",
       "      <td>198</td>\n",
       "      <td>4</td>\n",
       "      <td>20:04:56</td>\n",
       "      <td>2.457590</td>\n",
       "      <td>-0.254671</td>\n",
       "      <td>-0.967028</td>\n",
       "      <td>-8.660254e-01</td>\n",
       "      <td>-0.5</td>\n",
       "      <td>72296</td>\n",
       "      <td>-0.855063</td>\n",
       "      <td>0.518525</td>\n",
       "    </tr>\n",
       "    <tr>\n",
       "      <th>2</th>\n",
       "      <td>12.9</td>\n",
       "      <td>1</td>\n",
       "      <td>236</td>\n",
       "      <td>0</td>\n",
       "      <td>21:45:00</td>\n",
       "      <td>5.036377</td>\n",
       "      <td>-0.789418</td>\n",
       "      <td>-0.613856</td>\n",
       "      <td>0.000000e+00</td>\n",
       "      <td>1.0</td>\n",
       "      <td>78300</td>\n",
       "      <td>-0.555570</td>\n",
       "      <td>0.831470</td>\n",
       "    </tr>\n",
       "    <tr>\n",
       "      <th>3</th>\n",
       "      <td>5.3</td>\n",
       "      <td>3</td>\n",
       "      <td>177</td>\n",
       "      <td>4</td>\n",
       "      <td>08:22:21</td>\n",
       "      <td>1.661683</td>\n",
       "      <td>0.102821</td>\n",
       "      <td>-0.994700</td>\n",
       "      <td>-8.660254e-01</td>\n",
       "      <td>-0.5</td>\n",
       "      <td>30141</td>\n",
       "      <td>0.813228</td>\n",
       "      <td>-0.581946</td>\n",
       "    </tr>\n",
       "    <tr>\n",
       "      <th>4</th>\n",
       "      <td>16.0</td>\n",
       "      <td>5</td>\n",
       "      <td>240</td>\n",
       "      <td>3</td>\n",
       "      <td>17:47:00</td>\n",
       "      <td>4.475450</td>\n",
       "      <td>-0.829677</td>\n",
       "      <td>-0.558244</td>\n",
       "      <td>1.224647e-16</td>\n",
       "      <td>-1.0</td>\n",
       "      <td>64020</td>\n",
       "      <td>-0.998392</td>\n",
       "      <td>-0.056693</td>\n",
       "    </tr>\n",
       "  </tbody>\n",
       "</table>\n",
       "</div>"
      ],
      "text/plain": [
       "   fare_amount  passenger_count  dayofyear  dayofweek      time  distance_km  \\\n",
       "0          7.5                1        127          3  19:52:06     1.683323   \n",
       "1          7.7                1        198          4  20:04:56     2.457590   \n",
       "2         12.9                1        236          0  21:45:00     5.036377   \n",
       "3          5.3                3        177          4  08:22:21     1.661683   \n",
       "4         16.0                5        240          3  17:47:00     4.475450   \n",
       "\n",
       "   dayofyear_sin  dayofyear_cos  dayofweek_sin  dayofweek_cos  total_seconds  \\\n",
       "0       0.819972      -0.572404   1.224647e-16           -1.0          71526   \n",
       "1      -0.254671      -0.967028  -8.660254e-01           -0.5          72296   \n",
       "2      -0.789418      -0.613856   0.000000e+00            1.0          78300   \n",
       "3       0.102821      -0.994700  -8.660254e-01           -0.5          30141   \n",
       "4      -0.829677      -0.558244   1.224647e-16           -1.0          64020   \n",
       "\n",
       "   time_sin  time_cos  \n",
       "0 -0.882743  0.469857  \n",
       "1 -0.855063  0.518525  \n",
       "2 -0.555570  0.831470  \n",
       "3  0.813228 -0.581946  \n",
       "4 -0.998392 -0.056693  "
      ]
     },
     "execution_count": 166,
     "metadata": {},
     "output_type": "execute_result"
    }
   ],
   "source": [
    "df.head()"
   ]
  },
  {
   "cell_type": "code",
   "execution_count": 170,
   "id": "35a39c5e-6296-4ebc-adb9-0ef69360d06c",
   "metadata": {},
   "outputs": [],
   "source": [
    "final_df = df.drop(columns = ['dayofyear','dayofweek','time','total_seconds']).reset_index(drop = True)"
   ]
  },
  {
   "cell_type": "code",
   "execution_count": 172,
   "id": "b31c7507-1a5e-4401-a735-6e74bf4bb560",
   "metadata": {},
   "outputs": [
    {
     "data": {
      "text/html": [
       "<div>\n",
       "<style scoped>\n",
       "    .dataframe tbody tr th:only-of-type {\n",
       "        vertical-align: middle;\n",
       "    }\n",
       "\n",
       "    .dataframe tbody tr th {\n",
       "        vertical-align: top;\n",
       "    }\n",
       "\n",
       "    .dataframe thead th {\n",
       "        text-align: right;\n",
       "    }\n",
       "</style>\n",
       "<table border=\"1\" class=\"dataframe\">\n",
       "  <thead>\n",
       "    <tr style=\"text-align: right;\">\n",
       "      <th></th>\n",
       "      <th>fare_amount</th>\n",
       "      <th>passenger_count</th>\n",
       "      <th>distance_km</th>\n",
       "      <th>dayofyear_sin</th>\n",
       "      <th>dayofyear_cos</th>\n",
       "      <th>dayofweek_sin</th>\n",
       "      <th>dayofweek_cos</th>\n",
       "      <th>time_sin</th>\n",
       "      <th>time_cos</th>\n",
       "    </tr>\n",
       "  </thead>\n",
       "  <tbody>\n",
       "    <tr>\n",
       "      <th>0</th>\n",
       "      <td>7.5</td>\n",
       "      <td>1</td>\n",
       "      <td>1.683323</td>\n",
       "      <td>0.819972</td>\n",
       "      <td>-0.572404</td>\n",
       "      <td>1.224647e-16</td>\n",
       "      <td>-1.0</td>\n",
       "      <td>-0.882743</td>\n",
       "      <td>0.469857</td>\n",
       "    </tr>\n",
       "    <tr>\n",
       "      <th>1</th>\n",
       "      <td>7.7</td>\n",
       "      <td>1</td>\n",
       "      <td>2.457590</td>\n",
       "      <td>-0.254671</td>\n",
       "      <td>-0.967028</td>\n",
       "      <td>-8.660254e-01</td>\n",
       "      <td>-0.5</td>\n",
       "      <td>-0.855063</td>\n",
       "      <td>0.518525</td>\n",
       "    </tr>\n",
       "    <tr>\n",
       "      <th>2</th>\n",
       "      <td>12.9</td>\n",
       "      <td>1</td>\n",
       "      <td>5.036377</td>\n",
       "      <td>-0.789418</td>\n",
       "      <td>-0.613856</td>\n",
       "      <td>0.000000e+00</td>\n",
       "      <td>1.0</td>\n",
       "      <td>-0.555570</td>\n",
       "      <td>0.831470</td>\n",
       "    </tr>\n",
       "    <tr>\n",
       "      <th>3</th>\n",
       "      <td>5.3</td>\n",
       "      <td>3</td>\n",
       "      <td>1.661683</td>\n",
       "      <td>0.102821</td>\n",
       "      <td>-0.994700</td>\n",
       "      <td>-8.660254e-01</td>\n",
       "      <td>-0.5</td>\n",
       "      <td>0.813228</td>\n",
       "      <td>-0.581946</td>\n",
       "    </tr>\n",
       "    <tr>\n",
       "      <th>4</th>\n",
       "      <td>16.0</td>\n",
       "      <td>5</td>\n",
       "      <td>4.475450</td>\n",
       "      <td>-0.829677</td>\n",
       "      <td>-0.558244</td>\n",
       "      <td>1.224647e-16</td>\n",
       "      <td>-1.0</td>\n",
       "      <td>-0.998392</td>\n",
       "      <td>-0.056693</td>\n",
       "    </tr>\n",
       "  </tbody>\n",
       "</table>\n",
       "</div>"
      ],
      "text/plain": [
       "   fare_amount  passenger_count  distance_km  dayofyear_sin  dayofyear_cos  \\\n",
       "0          7.5                1     1.683323       0.819972      -0.572404   \n",
       "1          7.7                1     2.457590      -0.254671      -0.967028   \n",
       "2         12.9                1     5.036377      -0.789418      -0.613856   \n",
       "3          5.3                3     1.661683       0.102821      -0.994700   \n",
       "4         16.0                5     4.475450      -0.829677      -0.558244   \n",
       "\n",
       "   dayofweek_sin  dayofweek_cos  time_sin  time_cos  \n",
       "0   1.224647e-16           -1.0 -0.882743  0.469857  \n",
       "1  -8.660254e-01           -0.5 -0.855063  0.518525  \n",
       "2   0.000000e+00            1.0 -0.555570  0.831470  \n",
       "3  -8.660254e-01           -0.5  0.813228 -0.581946  \n",
       "4   1.224647e-16           -1.0 -0.998392 -0.056693  "
      ]
     },
     "execution_count": 172,
     "metadata": {},
     "output_type": "execute_result"
    }
   ],
   "source": [
    "final_df.head()"
   ]
  },
  {
   "cell_type": "markdown",
   "id": "cdfe3dcf-9f2f-4c52-8ce6-027abdbc14f1",
   "metadata": {},
   "source": [
    "**Now that we have the features store ready lets do some ML experiments**"
   ]
  },
  {
   "cell_type": "markdown",
   "id": "2173921f-293f-43c4-b7f6-04295996a5cd",
   "metadata": {},
   "source": [
    "## Modeling"
   ]
  },
  {
   "cell_type": "code",
   "execution_count": null,
   "id": "d8716d2f-8643-403a-abab-2d7541f93b3e",
   "metadata": {},
   "outputs": [],
   "source": []
  },
  {
   "cell_type": "markdown",
   "id": "7894e861-e8d2-416a-a635-8afe910b169e",
   "metadata": {},
   "source": [
    "To Do\n",
    "- Monitor using Evidently, premetheus \n"
   ]
  },
  {
   "cell_type": "code",
   "execution_count": null,
   "id": "4d584084-9c24-4308-8dcd-200caf7f94e5",
   "metadata": {},
   "outputs": [],
   "source": []
  }
 ],
 "metadata": {
  "kernelspec": {
   "display_name": "uber_fare_development",
   "language": "python",
   "name": "uber_fare_development"
  },
  "language_info": {
   "codemirror_mode": {
    "name": "ipython",
    "version": 3
   },
   "file_extension": ".py",
   "mimetype": "text/x-python",
   "name": "python",
   "nbconvert_exporter": "python",
   "pygments_lexer": "ipython3",
   "version": "3.12.0"
  }
 },
 "nbformat": 4,
 "nbformat_minor": 5
}
