{
 "cells": [
  {
   "cell_type": "markdown",
   "id": "5d73f3c0-9a50-44d1-ac14-d4c8afb23348",
   "metadata": {},
   "source": [
    "### Using the production environment"
   ]
  },
  {
   "cell_type": "code",
   "execution_count": 1,
   "id": "1be81a70-befe-42a9-8a9c-17b10bb68354",
   "metadata": {},
   "outputs": [
    {
     "name": "stdout",
     "output_type": "stream",
     "text": [
      "D:\\Personal\\self study\\uber fare prediction\\production\\virtualenv_prod_uber_fare\\Scripts\\pip.exe\n",
      "C:\\Users\\Lenovo\\AppData\\Local\\Programs\\Python\\Python312\\Scripts\\pip.exe\n"
     ]
    }
   ],
   "source": [
    "!where pip"
   ]
  },
  {
   "cell_type": "code",
   "execution_count": 3,
   "id": "b4efb488-0b66-4c96-b05b-d460e95671c7",
   "metadata": {},
   "outputs": [],
   "source": [
    "import pandas as pd\n",
    "import pickle\n",
    "import datetime\n",
    "import numpy as np\n",
    "import copy\n",
    "from math import radians, sin, cos, sqrt, atan2"
   ]
  },
  {
   "cell_type": "markdown",
   "id": "a77d92c5-e17d-4872-944c-f51a221e634b",
   "metadata": {},
   "source": [
    "### Reading one data point (Just for testing the pipeline)"
   ]
  },
  {
   "cell_type": "code",
   "execution_count": 38,
   "id": "894c076c-ef27-4c3b-bb62-1b35f9853c47",
   "metadata": {},
   "outputs": [],
   "source": [
    "data = pd.read_csv('../uber.csv')\n",
    "data = data[:1]\n",
    "data.drop(columns = ['Unnamed: 0','key','fare_amount'], inplace = True)"
   ]
  },
  {
   "cell_type": "code",
   "execution_count": 39,
   "id": "9812556b-735e-4710-a6b0-6e7e2e20fe74",
   "metadata": {},
   "outputs": [
    {
     "data": {
      "text/html": [
       "<div>\n",
       "<style scoped>\n",
       "    .dataframe tbody tr th:only-of-type {\n",
       "        vertical-align: middle;\n",
       "    }\n",
       "\n",
       "    .dataframe tbody tr th {\n",
       "        vertical-align: top;\n",
       "    }\n",
       "\n",
       "    .dataframe thead th {\n",
       "        text-align: right;\n",
       "    }\n",
       "</style>\n",
       "<table border=\"1\" class=\"dataframe\">\n",
       "  <thead>\n",
       "    <tr style=\"text-align: right;\">\n",
       "      <th></th>\n",
       "      <th>pickup_datetime</th>\n",
       "      <th>pickup_longitude</th>\n",
       "      <th>pickup_latitude</th>\n",
       "      <th>dropoff_longitude</th>\n",
       "      <th>dropoff_latitude</th>\n",
       "      <th>passenger_count</th>\n",
       "    </tr>\n",
       "  </thead>\n",
       "  <tbody>\n",
       "    <tr>\n",
       "      <th>0</th>\n",
       "      <td>2015-05-07 19:52:06 UTC</td>\n",
       "      <td>-73.999817</td>\n",
       "      <td>40.738354</td>\n",
       "      <td>-73.999512</td>\n",
       "      <td>40.723217</td>\n",
       "      <td>1</td>\n",
       "    </tr>\n",
       "  </tbody>\n",
       "</table>\n",
       "</div>"
      ],
      "text/plain": [
       "           pickup_datetime  pickup_longitude  pickup_latitude  \\\n",
       "0  2015-05-07 19:52:06 UTC        -73.999817        40.738354   \n",
       "\n",
       "   dropoff_longitude  dropoff_latitude  passenger_count  \n",
       "0         -73.999512         40.723217                1  "
      ]
     },
     "execution_count": 39,
     "metadata": {},
     "output_type": "execute_result"
    }
   ],
   "source": [
    "data"
   ]
  },
  {
   "cell_type": "markdown",
   "id": "fc197dba-1d41-43e1-9bfc-ffd983cd755d",
   "metadata": {},
   "source": [
    "### Data Processing"
   ]
  },
  {
   "cell_type": "code",
   "execution_count": 40,
   "id": "5db8e2fe-121c-413a-88bb-f91b031b0036",
   "metadata": {},
   "outputs": [],
   "source": [
    "def haversine_distance(long1,lat1, long2, lat2):    \n",
    "    # Convert latitude and longitude to radians\n",
    "    lat1_rad = radians(lat1)\n",
    "    long1_rad = radians(long1)\n",
    "    lat2_rad = radians(lat2)\n",
    "    long2_rad = radians(long2)\n",
    "\n",
    "    # Haversine formula\n",
    "    dlong = long2_rad - long1_rad\n",
    "    dlat = lat2_rad - lat1_rad\n",
    "    a = sin(dlat/2)**2 + cos(lat1_rad) * cos(lat2_rad) * sin(dlong/2)**2\n",
    "    c = 2 * atan2(sqrt(a), sqrt(1-a))\n",
    "    distance = 6371 * c  # Earth radius in kilometers\n",
    "    return distance"
   ]
  },
  {
   "cell_type": "markdown",
   "id": "65a1f653-9049-446e-ba3f-6df7129c169c",
   "metadata": {},
   "source": [
    "to get the same training features names"
   ]
  },
  {
   "cell_type": "code",
   "execution_count": 46,
   "id": "5d6aacf1-a3e6-4cc3-99a9-c61db1896de5",
   "metadata": {},
   "outputs": [
    {
     "data": {
      "text/plain": [
       "['passenger_count',\n",
       " 'distance_km',\n",
       " 'dayofyear_sin',\n",
       " 'dayofyear_cos',\n",
       " 'dayofweek_sin',\n",
       " 'dayofweek_cos',\n",
       " 'time_sin',\n",
       " 'time_cos']"
      ]
     },
     "execution_count": 46,
     "metadata": {},
     "output_type": "execute_result"
    }
   ],
   "source": [
    "model.get_booster().feature_names"
   ]
  },
  {
   "cell_type": "code",
   "execution_count": 41,
   "id": "52db2116-5a8c-4e9a-b51f-55f2954b052d",
   "metadata": {},
   "outputs": [],
   "source": [
    "def data_processing(data):\n",
    "    df = copy.deepcopy(data)\n",
    "    df.pickup_datetime = pd.to_datetime(df.pickup_datetime)\n",
    "    df['dayofyear'] = df.pickup_datetime.dt.dayofyear\n",
    "    df['dayofweek'] = df.pickup_datetime.dt.weekday\n",
    "    df['time'] = df.pickup_datetime.dt.time\n",
    "    df['distance_km'] = df.apply(lambda x: haversine_distance(x.pickup_longitude, x.pickup_latitude, x.dropoff_longitude, x.dropoff_latitude) ,axis = 1 )\n",
    "    df.drop(columns = ['pickup_datetime','pickup_longitude','pickup_latitude','dropoff_longitude', 'dropoff_latitude' ], inplace = True)\n",
    "    df['dayofyear_sin'] = np.sin(2*np.pi*df['dayofyear']/366)\n",
    "    df['dayofyear_cos'] = np.cos(2*np.pi*df['dayofyear']/366)\n",
    "    df['dayofweek_sin'] = np.sin(2*np.pi*df['dayofweek']/6)\n",
    "    df['dayofweek_cos'] = np.cos(2*np.pi*df['dayofweek']/6)\n",
    "    df['total_seconds'] = df['time'].apply(lambda t: t.hour * 3600 + t.minute * 60 + t.second )\n",
    "    df['time_sin'] = np.sin(2*np.pi*df['total_seconds']/86400)\n",
    "    df['time_cos'] = np.cos(2*np.pi*df['total_seconds']/86400)\n",
    "    final_df = df.drop(columns = ['dayofyear','dayofweek','time','total_seconds']).reset_index(drop = True)\n",
    "    return final_df\n"
   ]
  },
  {
   "cell_type": "markdown",
   "id": "c01644e7-4aae-4a8c-b640-13880bc9a64c",
   "metadata": {},
   "source": [
    "### Importing the production model"
   ]
  },
  {
   "cell_type": "code",
   "execution_count": 4,
   "id": "1830235e-6e07-4814-bb58-c4609a0835c6",
   "metadata": {},
   "outputs": [],
   "source": [
    "with open('./production_model.bin' , 'rb') as f_in:\n",
    "    model = pickle.load(f_in)"
   ]
  },
  {
   "cell_type": "code",
   "execution_count": 31,
   "id": "92f839de-0420-4903-936b-9a2b632e7093",
   "metadata": {},
   "outputs": [],
   "source": [
    "def predict(raw_data):\n",
    "    features = data_processing(raw_data)\n",
    "    prediction = model.predict(features)\n",
    "    return prediction"
   ]
  },
  {
   "cell_type": "code",
   "execution_count": 42,
   "id": "bd4d215d-ede5-4aa2-899a-f10262d2a669",
   "metadata": {},
   "outputs": [
    {
     "data": {
      "text/plain": [
       "array([7.4559135], dtype=float32)"
      ]
     },
     "execution_count": 42,
     "metadata": {},
     "output_type": "execute_result"
    }
   ],
   "source": [
    "predict(data)"
   ]
  },
  {
   "cell_type": "code",
   "execution_count": null,
   "id": "04ad3caa-0ecd-4d4e-b2eb-6342d2abda2a",
   "metadata": {},
   "outputs": [],
   "source": []
  }
 ],
 "metadata": {
  "kernelspec": {
   "display_name": "Python 3 (ipykernel)",
   "language": "python",
   "name": "python3"
  },
  "language_info": {
   "codemirror_mode": {
    "name": "ipython",
    "version": 3
   },
   "file_extension": ".py",
   "mimetype": "text/x-python",
   "name": "python",
   "nbconvert_exporter": "python",
   "pygments_lexer": "ipython3",
   "version": "3.12.0"
  }
 },
 "nbformat": 4,
 "nbformat_minor": 5
}
