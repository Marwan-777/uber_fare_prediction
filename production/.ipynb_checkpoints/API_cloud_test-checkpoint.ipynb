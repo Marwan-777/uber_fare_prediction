{
 "cells": [
  {
   "cell_type": "code",
   "execution_count": 1,
   "id": "f92c35e0-bc7c-4fe2-85a0-c6c652e8baf1",
   "metadata": {},
   "outputs": [],
   "source": [
    "import requests"
   ]
  },
  {
   "cell_type": "code",
   "execution_count": 2,
   "id": "0b41e5c6-8273-4c77-a050-492a2d8d9417",
   "metadata": {},
   "outputs": [],
   "source": [
    "data = {\n",
    "    \"pickup_datetime\": [\"2015-05-07 19:52:06 UTC\"],\n",
    "    \"pickup_longitude\": [-73.999817],\t\n",
    "\t\"pickup_latitude\": [40.738354],\n",
    "\t\"dropoff_longitude\": [-73.999512]\t,\n",
    "\t\"dropoff_latitude\" : [40.723217] ,\t\n",
    "\t\"passenger_count\": [1] \n",
    "}\n"
   ]
  },
  {
   "cell_type": "markdown",
   "id": "24b3945e-3fb7-4e23-951d-9d58d8705563",
   "metadata": {},
   "source": [
    "### Using the URL of the deployed container "
   ]
  },
  {
   "cell_type": "code",
   "execution_count": 4,
   "id": "1c8f7614-c842-4ef4-8556-f961bcbec0db",
   "metadata": {},
   "outputs": [
    {
     "name": "stdout",
     "output_type": "stream",
     "text": [
      "{'fare_amount': 7.455909729003906}\n"
     ]
    }
   ],
   "source": [
    "url = 'https://uber-fare-model-4j2w2fn3sq-uc.a.run.app/predict'\n",
    "response = requests.post(url, json=data)\n",
    "print(response.json())"
   ]
  },
  {
   "cell_type": "code",
   "execution_count": null,
   "id": "e94b27d2-598d-4171-8ad2-a27e33b0a158",
   "metadata": {},
   "outputs": [],
   "source": []
  },
  {
   "cell_type": "code",
   "execution_count": null,
   "id": "a15ec5ed-aea7-4a0c-9f27-0c5cdc7a492b",
   "metadata": {},
   "outputs": [],
   "source": []
  }
 ],
 "metadata": {
  "kernelspec": {
   "display_name": "Python 3 (ipykernel)",
   "language": "python",
   "name": "python3"
  },
  "language_info": {
   "codemirror_mode": {
    "name": "ipython",
    "version": 3
   },
   "file_extension": ".py",
   "mimetype": "text/x-python",
   "name": "python",
   "nbconvert_exporter": "python",
   "pygments_lexer": "ipython3",
   "version": "3.12.0"
  }
 },
 "nbformat": 4,
 "nbformat_minor": 5
}
